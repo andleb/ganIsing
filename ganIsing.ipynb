{
 "cells": [
  {
   "cell_type": "markdown",
   "id": "3921a916",
   "metadata": {},
   "source": [
    "<header><font size=\"+3\"> <center> <b> Solving the Ising model using GANs </b></center></font></header>"
   ]
  },
  {
   "cell_type": "markdown",
   "id": "5768663f",
   "metadata": {},
   "source": [
    "## Preamble"
   ]
  },
  {
   "cell_type": "code",
   "execution_count": 1,
   "id": "978d26d8",
   "metadata": {},
   "outputs": [],
   "source": [
    "import pickle as pk\n",
    "import numpy as np\n",
    "\n",
    "import torch\n",
    "import torch.nn as nn\n",
    "import torch.optim as optim"
   ]
  },
  {
   "cell_type": "code",
   "execution_count": 2,
   "id": "98425cfe",
   "metadata": {},
   "outputs": [],
   "source": [
    "import matplotlib.pyplot as plt\n",
    "plt.rcParams[\"figure.figsize\"] = (10, 10)\n",
    "plt.rcParams[\"text.usetex\"] = True"
   ]
  },
  {
   "cell_type": "code",
   "execution_count": 3,
   "id": "cf82d3ae",
   "metadata": {},
   "outputs": [],
   "source": [
    "N = 64"
   ]
  },
  {
   "cell_type": "code",
   "execution_count": 4,
   "id": "c3245630",
   "metadata": {},
   "outputs": [],
   "source": [
    "Tc = 2.269185"
   ]
  },
  {
   "cell_type": "markdown",
   "id": "5da4dc2e",
   "metadata": {},
   "source": [
    "# Import training images"
   ]
  },
  {
   "cell_type": "code",
   "execution_count": 5,
   "id": "09061445",
   "metadata": {},
   "outputs": [],
   "source": [
    "T = 1"
   ]
  },
  {
   "cell_type": "code",
   "execution_count": 6,
   "id": "b8de1eaa",
   "metadata": {},
   "outputs": [],
   "source": [
    "train_data = np.fromfile(\"mcdata/new_64_\" + str(T) + \".dat\", dtype=np.int64)"
   ]
  },
  {
   "cell_type": "code",
   "execution_count": 7,
   "id": "d7513ccb",
   "metadata": {},
   "outputs": [
    {
     "data": {
      "text/plain": [
       "(2000, 1, 64, 64)"
      ]
     },
     "execution_count": 7,
     "metadata": {},
     "output_type": "execute_result"
    }
   ],
   "source": [
    "train_data.shape = -1, 1, N, N\n",
    "train_data_tensor = torch.tensor(train_data, dtype=torch.double)\n",
    "\n",
    "train_data.shape"
   ]
  },
  {
   "cell_type": "code",
   "execution_count": 8,
   "id": "525f6ee7",
   "metadata": {},
   "outputs": [],
   "source": [
    "batch_size = 64"
   ]
  },
  {
   "cell_type": "code",
   "execution_count": 9,
   "id": "30b61a14",
   "metadata": {},
   "outputs": [],
   "source": [
    "dataloader = torch.utils.data.DataLoader(train_data_tensor,\n",
    "                                         batch_size=batch_size, shuffle=False)"
   ]
  },
  {
   "cell_type": "code",
   "execution_count": 10,
   "id": "043690e3",
   "metadata": {},
   "outputs": [
    {
     "data": {
      "image/png": "[encoded data removed]",
      "text/plain": [
       "<Figure size 720x720 with 1 Axes>"
      ]
     },
     "metadata": {
      "needs_background": "light"
     },
     "output_type": "display_data"
    }
   ],
   "source": [
    "plt.pcolormesh(train_data[-1, :, :][0],\n",
    "              cmap=\"binary\");"
   ]
  },
  {
   "cell_type": "markdown",
   "id": "469a04e5",
   "metadata": {},
   "source": [
    "# True magnetization distribution"
   ]
  },
  {
   "cell_type": "code",
   "execution_count": 11,
   "id": "9c426a34",
   "metadata": {},
   "outputs": [
    {
     "data": {
      "image/png": "[encoded data removed]",
      "text/plain": [
       "<Figure size 720x720 with 1 Axes>"
      ]
     },
     "metadata": {
      "needs_background": "light"
     },
     "output_type": "display_data"
    }
   ],
   "source": [
    "plt.hist(np.abs(train_data.mean((-1, -2))), bins=50);"
   ]
  },
  {
   "cell_type": "markdown",
   "id": "48510fae",
   "metadata": {},
   "source": [
    "# Define the net architecture"
   ]
  },
  {
   "cell_type": "markdown",
   "id": "8f551f90",
   "metadata": {},
   "source": [
    "## Generator"
   ]
  },
  {
   "cell_type": "markdown",
   "id": "0fa74738",
   "metadata": {},
   "source": [
    "The generator is a deep transpose-convolutional network:"
   ]
  },
  {
   "cell_type": "code",
   "execution_count": 12,
   "id": "a122dd13",
   "metadata": {},
   "outputs": [],
   "source": [
    "class Generator(nn.Module):\n",
    "    def __init__(self, ngpu):\n",
    "        \n",
    "        super(Generator, self).__init__()\n",
    "        \n",
    "        self.ngpu = ngpu\n",
    "        self.main = nn.Sequential(            \n",
    "            # Layer 1\n",
    "            nn.ConvTranspose2d(inp_dim, Ngen_ker * 8, 4, 1, 0, bias=False),\n",
    "            nn.BatchNorm2d(Ngen_ker * 8),\n",
    "            nn.ReLU(True),\n",
    "\n",
    "            # Layer 2\n",
    "            nn.ConvTranspose2d(Ngen_ker * 8, Ngen_ker * 4, 4, 2, 1, bias=False),\n",
    "            nn.BatchNorm2d(Ngen_ker * 4),\n",
    "            nn.ReLU(True),\n",
    "            \n",
    "            # Layer 3\n",
    "            nn.ConvTranspose2d( Ngen_ker * 4, Ngen_ker * 2, 4, 2, 1, bias=False),\n",
    "            nn.BatchNorm2d(Ngen_ker * 2),\n",
    "            nn.ReLU(True),\n",
    "            \n",
    "            # Layer 4\n",
    "            nn.ConvTranspose2d( Ngen_ker * 2, Ngen_ker, 4, 2, 1, bias=False),\n",
    "            nn.BatchNorm2d(Ngen_ker),\n",
    "            nn.ReLU(True),\n",
    "            \n",
    "            # output layer\n",
    "            nn.ConvTranspose2d( Ngen_ker, n_channel, 4, 2, 1, bias=False),\n",
    "            nn.Tanh()           \n",
    "        )\n",
    "\n",
    "    def forward(self, input):\n",
    "        return self.main(input)"
   ]
  },
  {
   "cell_type": "markdown",
   "id": "5a5059f6",
   "metadata": {},
   "source": [
    "## Discriminator"
   ]
  },
  {
   "cell_type": "markdown",
   "id": "204da502",
   "metadata": {},
   "source": [
    "Using spectral norm, code taken from: https://github.com/christiancosgrove/pytorch-spectral-normalization-gan/blob/master/spectral_normalization.py"
   ]
  },
  {
   "cell_type": "code",
   "execution_count": 13,
   "id": "cf51c96b",
   "metadata": {},
   "outputs": [],
   "source": [
    "def l2normalize(v, eps=1e-12):\n",
    "    return v / (v.norm() + eps)\n",
    "\n",
    "\n",
    "class SpectralNorm(nn.Module):\n",
    "    def __init__(self, module, name='weight', power_iterations=1):\n",
    "        super(SpectralNorm, self).__init__()\n",
    "        self.module = module\n",
    "        self.name = name\n",
    "        self.power_iterations = power_iterations\n",
    "        if not self._made_params():\n",
    "            self._make_params()\n",
    "\n",
    "    def _update_u_v(self):\n",
    "        u = getattr(self.module, self.name + \"_u\")\n",
    "        v = getattr(self.module, self.name + \"_v\")\n",
    "        w = getattr(self.module, self.name + \"_bar\")\n",
    "\n",
    "        height = w.data.shape[0]\n",
    "        for _ in range(self.power_iterations):\n",
    "            v.data = l2normalize(torch.mv(torch.t(w.view(height,-1).data), u.data))\n",
    "            u.data = l2normalize(torch.mv(w.view(height,-1).data, v.data))\n",
    "\n",
    "        sigma = u.dot(w.view(height, -1).mv(v))\n",
    "        setattr(self.module, self.name, w / sigma.expand_as(w))\n",
    "\n",
    "    def _made_params(self):\n",
    "        try:\n",
    "            u = getattr(self.module, self.name + \"_u\")\n",
    "            v = getattr(self.module, self.name + \"_v\")\n",
    "            w = getattr(self.module, self.name + \"_bar\")\n",
    "            return True\n",
    "        except AttributeError:\n",
    "            return False\n",
    "\n",
    "\n",
    "    def _make_params(self):\n",
    "        w = getattr(self.module, self.name)\n",
    "\n",
    "        height = w.data.shape[0]\n",
    "        width = w.view(height, -1).data.shape[1]\n",
    "\n",
    "        u = Parameter(w.data.new(height).normal_(0, 1), requires_grad=False)\n",
    "        v = Parameter(w.data.new(width).normal_(0, 1), requires_grad=False)\n",
    "        u.data = l2normalize(u.data)\n",
    "        v.data = l2normalize(v.data)\n",
    "        w_bar = Parameter(w.data)\n",
    "\n",
    "        del self.module._parameters[self.name]\n",
    "\n",
    "        self.module.register_parameter(self.name + \"_u\", u)\n",
    "        self.module.register_parameter(self.name + \"_v\", v)\n",
    "        self.module.register_parameter(self.name + \"_bar\", w_bar)\n",
    "\n",
    "\n",
    "    def forward(self, *args):\n",
    "        self._update_u_v()\n",
    "        return self.module.forward(*args)"
   ]
  },
  {
   "cell_type": "markdown",
   "id": "c03f8099",
   "metadata": {},
   "source": [
    "The discriminator"
   ]
  },
  {
   "cell_type": "code",
   "execution_count": 14,
   "id": "5200196d",
   "metadata": {},
   "outputs": [],
   "source": [
    "class Discriminator(nn.Module):\n",
    "    def __init__(self, ngpu):\n",
    "        \n",
    "        super(Discriminator, self).__init__()\n",
    "        \n",
    "        self.ngpu = ngpu\n",
    "        \n",
    "        self.main = nn.Sequential(\n",
    "            # Layer 1\n",
    "            nn.Conv2d(n_channel, Ndis_ker, 4, 2, 1, bias=False),\n",
    "            nn.LeakyReLU(0.2, inplace=True),\n",
    "            \n",
    "            # Layer 2\n",
    "            nn.Conv2d(Ndis_ker, Ndis_ker * 2, 4, 2, 1, bias=False),\n",
    "            nn.BatchNorm2d(Ndis_ker * 2),\n",
    "            nn.LeakyReLU(0.2, inplace=True),\n",
    "            \n",
    "            # Layer 3\n",
    "            nn.Conv2d(Ndis_ker * 2, Ndis_ker * 4, 4, 2, 1, bias=False),\n",
    "            nn.BatchNorm2d(Ndis_ker * 4),\n",
    "            nn.LeakyReLU(0.2, inplace=True),\n",
    "            \n",
    "            # Layer 4\n",
    "            nn.Conv2d(Ndis_ker * 4, Ndis_ker * 8, 4, 2, 1, bias=False),\n",
    "            nn.BatchNorm2d(Ndis_ker * 8),\n",
    "            nn.LeakyReLU(0.2, inplace=True),\n",
    "            \n",
    "            # Layer 5\n",
    "            nn.Conv2d(Ndis_ker * 8, 1, 4, 1, 0, bias=False)\n",
    "        )\n",
    "\n",
    "    def forward(self, input):\n",
    "        return self.main(input)"
   ]
  },
  {
   "cell_type": "markdown",
   "id": "feea47f4",
   "metadata": {},
   "source": [
    "# pytorch config"
   ]
  },
  {
   "cell_type": "code",
   "execution_count": 15,
   "id": "e656eeb7",
   "metadata": {},
   "outputs": [],
   "source": [
    "# number of channels\n",
    "n_channel = 1\n",
    "\n",
    "# input dimension\n",
    "inp_dim = 100\n",
    "\n",
    "# kernel sizes\n",
    "Ngen_ker = 64\n",
    "Ndis_ker = 64\n",
    "\n",
    "# number of epochs and regularization constants\n",
    "num_epochs = 5\n",
    "gamma = 0.0001\n",
    "beta1 = 0.5\n",
    "ngpu = torch.cuda.device_count()\n",
    "device = torch.device('cuda:0' if torch.cuda.is_available() else 'cpu')"
   ]
  },
  {
   "cell_type": "markdown",
   "id": "928a3fa7",
   "metadata": {},
   "source": [
    "# Init"
   ]
  },
  {
   "cell_type": "markdown",
   "id": "175900af",
   "metadata": {},
   "source": [
    "From here:\n",
    "https://discuss.pytorch.org/t/weight-initilzation/157/5"
   ]
  },
  {
   "cell_type": "code",
   "execution_count": 16,
   "id": "01587412",
   "metadata": {},
   "outputs": [],
   "source": [
    "def weights_init(m):    \n",
    "    classname = m.__class__.__name__\n",
    "    if classname.find('Conv') != -1:\n",
    "        nn.init.normal_(m.weight.data, 0.0, 0.02)\n",
    "    elif classname.find('BatchNorm') != -1:\n",
    "        nn.init.normal_(m.weight.data, 1.0, 0.02)\n",
    "        nn.init.constant_(m.bias.data, 0)"
   ]
  },
  {
   "cell_type": "code",
   "execution_count": 17,
   "id": "acc57ddf",
   "metadata": {},
   "outputs": [],
   "source": [
    "# Generator\n",
    "generator = Generator(ngpu).to(device)\n",
    "if (device.type == 'cuda') and (ngpu > 1):\n",
    "    generator = nn.DataParallel(generator, list(range(ngpu)))\n",
    "generator.apply(weights_init);"
   ]
  },
  {
   "cell_type": "code",
   "execution_count": 18,
   "id": "dd7b18aa",
   "metadata": {},
   "outputs": [],
   "source": [
    "# Discriminator\n",
    "discriminator = Discriminator(ngpu).to(device)\n",
    "if (device.type == 'cuda') and (ngpu > 1):\n",
    "    discriminator = nn.DataParallel(discriminator, list(range(ngpu)))"
   ]
  },
  {
   "cell_type": "code",
   "execution_count": 19,
   "id": "f34dd204",
   "metadata": {},
   "outputs": [],
   "source": [
    "# Pytorch prefers 0/1 labels\n",
    "real_label = 1\n",
    "fake_label = 0"
   ]
  },
  {
   "cell_type": "code",
   "execution_count": 20,
   "id": "71de585d",
   "metadata": {},
   "outputs": [],
   "source": [
    "mag_loss = nn.MSELoss()"
   ]
  },
  {
   "cell_type": "code",
   "execution_count": 21,
   "id": "8b66b03a",
   "metadata": {},
   "outputs": [],
   "source": [
    "# Optimizer\n",
    "optimizerD = optim.Adam(discriminator.parameters(), lr=gamma, betas=(beta1, 0.999))\n",
    "optimizerG = optim.Adam(generator.parameters(), lr=gamma, betas=(beta1, 0.999))"
   ]
  },
  {
   "cell_type": "markdown",
   "id": "541fe7cd",
   "metadata": {},
   "source": [
    "# Train "
   ]
  },
  {
   "cell_type": "code",
   "execution_count": 30,
   "id": "326535e7",
   "metadata": {
    "scrolled": true
   },
   "outputs": [
    {
     "name": "stdout",
     "output_type": "stream",
     "text": [
      "Epoch: 0 / 5 Batch: 0 / 32 Generator loss: 2.31 Discriminator loss: 0.1\n",
      "Epoch: 1 / 5 Batch: 0 / 32 Generator loss: 2.46 Discriminator loss: 0.04\n",
      "Epoch: 2 / 5 Batch: 0 / 32 Generator loss: 1.69 Discriminator loss: 3.09\n",
      "Epoch: 3 / 5 Batch: 0 / 32 Generator loss: 0.73 Discriminator loss: 4.83\n",
      "Epoch: 4 / 5 Batch: 0 / 32 Generator loss: 2.24 Discriminator loss: 0.48\n"
     ]
    }
   ],
   "source": [
    "loss_G = []\n",
    "loss_D = []\n",
    "itr = 0\n",
    "\n",
    "outputF = 75\n",
    "\n",
    "for epoch in range(num_epochs):\n",
    "    \n",
    "    for i, dat in enumerate(dataloader):\n",
    "\n",
    "        ### Discriminator update\n",
    "        discriminator.zero_grad()        \n",
    "        \n",
    "        # Real data\n",
    "        data = dat.to(device)\n",
    "        bSize = data.size(0)\n",
    "        labels = torch.full((bSize,), real_label, device=device)\n",
    "        \n",
    "        # There is a symmetry between identical \"white\" and \"black\" states\n",
    "        # flip it\n",
    "        sign = torch.sign(torch.sum(data, (-1,-2, -3)))\n",
    "        sign = sign.cpu().numpy().reshape((sign.shape[0], 1, 1, 1))              \n",
    "        data = torch.from_numpy(sign * data.cpu().numpy()).to(device)\n",
    "              \n",
    "        # Forward pass - real data\n",
    "        data_D = discriminator(data.float()).view(-1)        \n",
    "        # Hinge loss\n",
    "        D_err_data = nn.ReLU()(1.0 - data_D).mean()\n",
    "        \n",
    "        # Generated data\n",
    "        noise = torch.randn(bSize, inp_dim, 1, 1, device=device)\n",
    "        generated = generator(noise)        \n",
    "        labels.fill_(fake_label)\n",
    "        \n",
    "        # Forward pass - generated data\n",
    "        generated_D = discriminator(generated.detach()).view(-1)         \n",
    "        # Hinge loss\n",
    "        D_err_gen = nn.ReLU()(1.0 + generated_D).mean()\n",
    "        \n",
    "        # The discriminator's overall loss:\n",
    "        D_err = D_err_data + D_err_gen\n",
    "        \n",
    "        # Discriminator update\n",
    "        D_err.backward()\n",
    "        optimizerD.step()\n",
    "        \n",
    "        # magnetization\n",
    "        real_mag = torch.mean(data, (-1, -2, -3))\n",
    "        fake_mag = torch.mean(generated, (-1,-2,-3))\n",
    "        \n",
    "        \n",
    "        ### Generator update\n",
    "        generator.zero_grad()\n",
    "        labels.fill_(real_label)\n",
    "        \n",
    "        # use the updated discriminator\n",
    "        feedback = discriminator(generated).view(-1)\n",
    "        \n",
    "        # Generator's loss\n",
    "        G_err = -1.0 * torch.mean(feedback) +\\\n",
    "            mag_loss(real_mag.float().to(device), fake_mag.float().to(device))\n",
    "              \n",
    "        # Generator update\n",
    "        G_err.backward()\n",
    "        optimizerG.step()\n",
    "               \n",
    "        # print:\n",
    "        if i % outputF == 0:\n",
    "            print(f\"\"\"Epoch: {epoch} / {num_epochs} Batch: {i} / {len(dataloader)}\"\"\"\n",
    "                  f\"\"\" Generator loss: {round(G_err.item(), 2)} Discriminator loss: {round(D_err.item(), 2)}\"\"\")\n",
    "            \n",
    "        loss_G.append(G_err.item())\n",
    "        loss_D.append(D_err.item())\n",
    "        \n",
    "        itr += 1"
   ]
  },
  {
   "cell_type": "code",
   "execution_count": 337,
   "id": "280a9370",
   "metadata": {},
   "outputs": [
    {
     "data": {
      "text/plain": [
       "5"
      ]
     },
     "execution_count": 337,
     "metadata": {},
     "output_type": "execute_result"
    }
   ],
   "source": [
    "T"
   ]
  },
  {
   "cell_type": "code",
   "execution_count": 338,
   "id": "ca76744d",
   "metadata": {},
   "outputs": [],
   "source": [
    "pk.dump(generator, open(\"models/generator\" + str(T) + \".pkl\", 'wb'))"
   ]
  },
  {
   "cell_type": "markdown",
   "id": "00522075",
   "metadata": {},
   "source": [
    "# Data Evaluation"
   ]
  },
  {
   "cell_type": "code",
   "execution_count": 313,
   "id": "bc598e12",
   "metadata": {},
   "outputs": [],
   "source": [
    "generator = pk.load(open(\"models/generator\" + str(T) + \".pkl\", 'rb'))"
   ]
  },
  {
   "cell_type": "code",
   "execution_count": 32,
   "id": "6ccf50e2",
   "metadata": {},
   "outputs": [],
   "source": [
    "n_gen = 1000\n",
    "gen_data = generator.cpu()(torch.randn(n_gen, inp_dim, 1, 1))"
   ]
  },
  {
   "cell_type": "code",
   "execution_count": 33,
   "id": "03fe3963",
   "metadata": {},
   "outputs": [],
   "source": [
    "gen_data = gen_data.detach().numpy()\n",
    "gen_data[gen_data >= 0] = 1\n",
    "gen_data[gen_data < 0] = -1"
   ]
  },
  {
   "cell_type": "code",
   "execution_count": 34,
   "id": "1dab8c46",
   "metadata": {},
   "outputs": [
    {
     "data": {
      "image/png": "[encoded data removed]",
      "text/plain": [
       "<Figure size 864x432 with 2 Axes>"
      ]
     },
     "metadata": {
      "needs_background": "light"
     },
     "output_type": "display_data"
    }
   ],
   "source": [
    "f, (ax1, ax2) = plt.subplots(1, 2, figsize=(12, 6))\n",
    "ax1.pcolormesh(train_data[1999, :, :, :][0], cmap='binary');\n",
    "ax2.pcolormesh(gen_data[999, :, :, :][0], cmap='binary');"
   ]
  },
  {
   "cell_type": "code",
   "execution_count": 37,
   "id": "e1f185de",
   "metadata": {},
   "outputs": [],
   "source": [
    "gen_mag = abs(np.mean(gen_data, (-1,-2,-3)))\n",
    "data_mag = abs(np.mean(train_data, (-1,-2,-3)))"
   ]
  },
  {
   "cell_type": "code",
   "execution_count": 42,
   "id": "6f460442",
   "metadata": {},
   "outputs": [
    {
     "data": {
      "image/png": "[encoded data removed]",
      "text/plain": [
       "<Figure size 864x576 with 1 Axes>"
      ]
     },
     "metadata": {
      "needs_background": "light"
     },
     "output_type": "display_data"
    }
   ],
   "source": [
    "plt.figure(figsize=(12,8))\n",
    "plt.hist(gen_mag,  label='generated', color = 'r', alpha = 0.2, bins = 25, density=True)\n",
    "plt.hist(data_mag, label ='real', color = 'g', alpha = 0.2, bins = 25, density=True)\n",
    "plt.xlim(0, 1)\n",
    "\n",
    "plt.legend(loc='upper right',fontsize=20)\n",
    "\n",
    "plt.title(\"Temperature: \" + str(T), fontsize=20)\n",
    "plt.xlabel('$\\langle s \\\\rangle$', fontsize=20)\n",
    "plt.xticks(fontsize=20);\n",
    "plt.yticks(fontsize=20);"
   ]
  }
 ],
 "metadata": {
  "kernelspec": {
   "display_name": "Python 3 (ipykernel)",
   "language": "python",
   "name": "python3"
  },
  "language_info": {
   "codemirror_mode": {
    "name": "ipython",
    "version": 3
   },
   "file_extension": ".py",
   "mimetype": "text/x-python",
   "name": "python",
   "nbconvert_exporter": "python",
   "pygments_lexer": "ipython3",
   "version": "3.8.10"
  },
  "toc": {
   "base_numbering": 1,
   "nav_menu": {},
   "number_sections": true,
   "sideBar": true,
   "skip_h1_title": false,
   "title_cell": "Table of Contents",
   "title_sidebar": "Contents",
   "toc_cell": false,
   "toc_position": {},
   "toc_section_display": true,
   "toc_window_display": false
  }
 },
 "nbformat": 4,
 "nbformat_minor": 5
}
