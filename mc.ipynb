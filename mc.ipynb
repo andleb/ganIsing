{
 "cells": [
  {
   "cell_type": "markdown",
   "id": "2cf93199",
   "metadata": {},
   "source": [
    "<header><font size=\"+2\"> <center> <b> Solving the Ising model with the Metropolis Algorithm </b></center></font></header>"
   ]
  },
  {
   "cell_type": "code",
   "execution_count": 22,
   "id": "5615bbd0",
   "metadata": {},
   "outputs": [],
   "source": [
    "import numpy as np\n",
    "import multiprocessing as mp\n",
    "import itertools as it"
   ]
  },
  {
   "cell_type": "code",
   "execution_count": 21,
   "id": "9faaeeb6",
   "metadata": {},
   "outputs": [],
   "source": [
    "import matplotlib.pyplot as plt\n",
    "plt.rcParams[\"figure.figsize\"] = (12, 6)"
   ]
  },
  {
   "cell_type": "markdown",
   "id": "1c9250cf",
   "metadata": {},
   "source": [
    "(I know these could be expressed as matrix ops, so far they're fast enough, though)"
   ]
  },
  {
   "cell_type": "code",
   "execution_count": 14,
   "id": "7774be76",
   "metadata": {},
   "outputs": [],
   "source": [
    "def simulate(N, T, J = 1, niter = 5000):\n",
    "    s = 2 * (np.random.uniform(size=(N, N)) > 0.5) - 1\n",
    "    \n",
    "    def p(ind, N):\n",
    "        return ind % N\n",
    "    \n",
    "    def energy(s, J):\n",
    "        E = 0\n",
    "        N = s.shape[0]\n",
    "        \n",
    "        for i in range(N):\n",
    "            for j in range(N):\n",
    "                dE = s[i, j] * (\n",
    "                    s[p(i+1, N), j] + s[p(i-1, N), j] \n",
    "                    + s[i, p(j+1, N)] + s[i, p(j-1,N)]\n",
    "                )\n",
    "                E -= 0.5 * J * dE\n",
    "                \n",
    "        return E\n",
    "\n",
    "    \n",
    "    E = energy(s, J)\n",
    "    \n",
    "    for itr in range(niter):\n",
    "        indx = np.random.randint(0, N)\n",
    "        indy = np.random.randint(0, N)\n",
    "        \n",
    "        dE = 2 * J * s[indy, indx] *  (  s[p(indy+1, N), indx]\\\n",
    "                                       + s[p(indy-1, N), indx]\\\n",
    "                                       + s[indy, p(indx-1, N)]\n",
    "                                       + s[indy, p(indx+1, N)])\n",
    "        \n",
    "        # accept\n",
    "        # don't need exp!\n",
    "#         if np.exp(-1 * ((E + dE) / T)) > np.exp(-1 * (E / T)):\n",
    "        if (E + dE) < E:\n",
    "            s[indy, indx] = s[indy, indx] * -1\n",
    "            E = E + dE\n",
    "        # accept even if not an improvement\n",
    "        elif np.random.rand() <= np.exp(-1 * (dE / T)):\n",
    "            s[indy, indx] = s[indy,indx] *-1\n",
    "            E = E + dE  \n",
    "    \n",
    "    return s"
   ]
  },
  {
   "cell_type": "code",
   "execution_count": 23,
   "id": "c3e78e0a",
   "metadata": {},
   "outputs": [
    {
     "data": {
      "image/png": "[encoded data removed]",
      "text/plain": [
       "<Figure size 864x432 with 1 Axes>"
      ]
     },
     "metadata": {
      "needs_background": "light"
     },
     "output_type": "display_data"
    }
   ],
   "source": [
    "s = simulate(64, 2.26, niter=10000)\n",
    "plt.pcolormesh(s, cmap=\"binary\");"
   ]
  },
  {
   "cell_type": "markdown",
   "id": "0bcdca1f",
   "metadata": {},
   "source": [
    "## Sanity check - magnetization"
   ]
  },
  {
   "cell_type": "code",
   "execution_count": 24,
   "id": "182e6003",
   "metadata": {},
   "outputs": [],
   "source": [
    "m = []\n",
    "for T in np.linspace(0.1, 10, 20):\n",
    "    s = simulate(32, T, niter=20000)\n",
    "    m.append(s.mean())    "
   ]
  },
  {
   "cell_type": "code",
   "execution_count": 25,
   "id": "a2f9c7b1",
   "metadata": {},
   "outputs": [
    {
     "data": {
      "image/png": "[encoded data removed]",
      "text/plain": [
       "<Figure size 864x432 with 1 Axes>"
      ]
     },
     "metadata": {
      "needs_background": "light"
     },
     "output_type": "display_data"
    }
   ],
   "source": [
    "plt.plot(m);\n",
    "plt.axhline(0);"
   ]
  },
  {
   "cell_type": "markdown",
   "id": "ee28b1b4",
   "metadata": {},
   "source": [
    "# Generate data for the GAN"
   ]
  },
  {
   "cell_type": "code",
   "execution_count": 37,
   "id": "caf6a087",
   "metadata": {},
   "outputs": [],
   "source": [
    "pool = mp.Pool(mp.cpu_count() // 2)"
   ]
  },
  {
   "cell_type": "code",
   "execution_count": 47,
   "id": "dbb4e6c9",
   "metadata": {},
   "outputs": [],
   "source": [
    "Ndata = 10000"
   ]
  },
  {
   "cell_type": "code",
   "execution_count": 39,
   "id": "61b5c291",
   "metadata": {},
   "outputs": [],
   "source": [
    "Tc = 2.269185"
   ]
  },
  {
   "cell_type": "code",
   "execution_count": 48,
   "id": "4165aae8",
   "metadata": {},
   "outputs": [],
   "source": [
    "N = 64\n",
    "T = 1\n",
    "J = 1"
   ]
  },
  {
   "cell_type": "markdown",
   "id": "50af148e",
   "metadata": {},
   "source": [
    "  Generate Ndata **equilibrium** states at T"
   ]
  },
  {
   "cell_type": "code",
   "execution_count": null,
   "id": "97074ad0",
   "metadata": {},
   "outputs": [],
   "source": [
    "res = pool.starmap(simulate, it.repeat((64, T, J, 10000), Ndata))"
   ]
  },
  {
   "cell_type": "markdown",
   "id": "c011d48e",
   "metadata": {},
   "source": [
    "Dump them concatenated  "
   ]
  },
  {
   "cell_type": "code",
   "execution_count": null,
   "id": "5977f3eb",
   "metadata": {},
   "outputs": [],
   "source": [
    "np.array(res).tofile(\"mcdata/\" + str(T) + \".dat\")"
   ]
  },
  {
   "cell_type": "code",
   "execution_count": 33,
   "id": "49894fed",
   "metadata": {},
   "outputs": [],
   "source": [
    "pool.close()"
   ]
  }
 ],
 "metadata": {
  "kernelspec": {
   "display_name": "Python 3 (ipykernel)",
   "language": "python",
   "name": "python3"
  },
  "language_info": {
   "codemirror_mode": {
    "name": "ipython",
    "version": 3
   },
   "file_extension": ".py",
   "mimetype": "text/x-python",
   "name": "python",
   "nbconvert_exporter": "python",
   "pygments_lexer": "ipython3",
   "version": "3.8.10"
  },
  "toc": {
   "base_numbering": 1,
   "nav_menu": {},
   "number_sections": true,
   "sideBar": true,
   "skip_h1_title": false,
   "title_cell": "Table of Contents",
   "title_sidebar": "Contents",
   "toc_cell": false,
   "toc_position": {},
   "toc_section_display": true,
   "toc_window_display": false
  }
 },
 "nbformat": 4,
 "nbformat_minor": 5
}
